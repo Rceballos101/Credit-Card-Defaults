{
 "cells": [
  {
   "cell_type": "markdown",
   "metadata": {},
   "source": [
    "#Reyes Ceballos            \n",
    "#Anna Jadonath\n",
    "#CUS 615 Nikhil Yadav"
   ]
  },
  {
   "cell_type": "markdown",
   "metadata": {},
   "source": [
    "# Predicting the Default of Taiwanese Credit Card Holders"
   ]
  },
  {
   "cell_type": "code",
   "execution_count": 1,
   "metadata": {
    "collapsed": true
   },
   "outputs": [],
   "source": [
    "import pandas\n",
    "credit = pandas.read_excel('default of credit card clients-NotNormalized.xlsx')\n"
   ]
  },
  {
   "cell_type": "code",
   "execution_count": 2,
   "metadata": {
    "collapsed": true
   },
   "outputs": [],
   "source": [
    "#only use for not normalized data\n",
    "Xcolumns = credit.iloc[:,0:-1] #data\n",
    "Ycolumn = credit.iloc[:,-1] #class\n",
    "\n",
    "Xcolumns = (Xcolumns - Xcolumns.mean()) / Xcolumns.std()\n",
    "# Normalize all of the numeric columns\n",
    "# (obs - mean) / stand Dev"
   ]
  },
  {
   "cell_type": "code",
   "execution_count": 3,
   "metadata": {
    "collapsed": true
   },
   "outputs": [],
   "source": [
    "# Split data into training and test sets\n",
    "\n",
    "import random \n",
    "from numpy.random import permutation\n",
    "from sklearn.model_selection import train_test_split\n",
    "\n",
    "#Xcolumns = credit.iloc[:,0:-1] #data\n",
    "#Ycolumn = credit.iloc[:,-1] #class\n",
    "Xtrain, Xtest, Ytrain,Ytest = train_test_split(Xcolumns,Ycolumn,test_size=0.1,random_state=52)"
   ]
  },
  {
   "cell_type": "code",
   "execution_count": 4,
   "metadata": {
    "collapsed": true
   },
   "outputs": [],
   "source": [
    "#performace evaluators\n",
    "from sklearn.metrics import accuracy_score # (TP + TN) / total\n",
    "from sklearn.model_selection import cross_val_score\n",
    "from sklearn.metrics import precision_score # # % of Pred defaults(pos) that actually default TP / (TP + FP)\n",
    "\n",
    "\n",
    "#from sklearn.metrics import recall_score # % of Pred defaults accurately predicted TP / (TP + FN) \n",
    "#specificity = % of Pred Paid accurately predicted TN / (TN + FP)"
   ]
  },
  {
   "cell_type": "code",
   "execution_count": 5,
   "metadata": {},
   "outputs": [
    {
     "name": "stdout",
     "output_type": "stream",
     "text": [
      "Training Set Accuracy for KNN:  1 nearest neighbors 0.999 with MSE of  0.001\n",
      "    Test Set Accuracy for KNN:  1 nearest neighbors 0.715 with MSE of  0.285\n",
      "Cross Validation average  0.7264\n",
      "Precision  0.365497076023 \n",
      "\n",
      "Training Set Accuracy for KNN:  2 nearest neighbors 0.865 with MSE of  0.135\n",
      "    Test Set Accuracy for KNN:  2 nearest neighbors 0.773 with MSE of  0.227\n",
      "Cross Validation average  0.78563\n",
      "Precision  0.478927203065 \n",
      "\n",
      "Training Set Accuracy for KNN:  3 nearest neighbors 0.866 with MSE of  0.134\n",
      "    Test Set Accuracy for KNN:  3 nearest neighbors 0.765 with MSE of  0.235\n",
      "Cross Validation average  0.7746\n",
      "Precision  0.466135458167 \n",
      "\n",
      "Training Set Accuracy for KNN:  5 nearest neighbors 0.843 with MSE of  0.157\n",
      "    Test Set Accuracy for KNN:  5 nearest neighbors 0.779 with MSE of  0.221\n",
      "Cross Validation average  0.7926\n",
      "Precision  0.509615384615 \n",
      "\n",
      "Training Set Accuracy for KNN:  20 nearest neighbors 0.821 with MSE of  0.179\n",
      "    Test Set Accuracy for KNN:  20 nearest neighbors 0.801 with MSE of  0.199\n",
      "Cross Validation average  0.8105\n",
      "Precision  0.62012987013 \n",
      "\n",
      "Training Set Accuracy for KNN:  50 nearest neighbors 0.817 with MSE of  0.183\n",
      "    Test Set Accuracy for KNN:  50 nearest neighbors 0.804 with MSE of  0.196\n",
      "Cross Validation average  0.81144\n",
      "Precision  0.630573248408 \n",
      "\n",
      "Training Set Accuracy for KNN:  100 nearest neighbors 0.812 with MSE of  0.188\n",
      "    Test Set Accuracy for KNN:  100 nearest neighbors 0.805 with MSE of  0.195\n",
      "Cross Validation average  0.8092\n",
      "Precision  0.651408450704 \n",
      "\n",
      "Training Set Accuracy for KNN:  500 nearest neighbors 0.805 with MSE of  0.195\n",
      "    Test Set Accuracy for KNN:  500 nearest neighbors 0.798 with MSE of  0.202\n",
      "Cross Validation average  0.8046\n",
      "Precision  0.63829787234 \n",
      "\n",
      "Training Set Accuracy for KNN:  1500 nearest neighbors 0.799 with MSE of  0.201\n",
      "    Test Set Accuracy for KNN:  1500 nearest neighbors 0.797 with MSE of  0.203\n",
      "Cross Validation average  0.79883\n",
      "Precision  0.69375 \n",
      "\n",
      "Training Set Accuracy for KNN:  3000 nearest neighbors 0.794 with MSE of  0.206\n",
      "    Test Set Accuracy for KNN:  3000 nearest neighbors 0.794 with MSE of  0.206\n",
      "Cross Validation average  0.79293\n",
      "Precision  0.774193548387 \n",
      "\n"
     ]
    }
   ],
   "source": [
    "#KNN\n",
    "\n",
    "from sklearn import neighbors\n",
    "\n",
    "result = []\n",
    "\n",
    "for i in [1,2,3,5,20,50,100,500,1500,3000]: # [500,1500,3000] accuracy goes down\n",
    "    n_neighbors = i\n",
    "    KNN = neighbors.KNeighborsClassifier(n_neighbors)\n",
    "\n",
    "    KNN.fit(Xtrain,Ytrain) #use training set not entire dataset of X,y\n",
    "\n",
    "    # test our training data\n",
    "    Y_predictions = KNN.predict(Xtrain)\n",
    "    train_acc1 = accuracy_score(Y_predictions, Ytrain)\n",
    "    \n",
    "    mse = (((Y_predictions - Ytrain) ** 2).sum()) / len(Y_predictions)\n",
    "    \n",
    "    print(\"Training Set Accuracy for KNN: \",i,'nearest neighbors',round(train_acc1,3),'with MSE of ',round(mse,3))\n",
    "    \n",
    "    #test our test set data vs class\n",
    "    Y_predictions = KNN.predict(Xtest)\n",
    "    test_acc1 = accuracy_score(Y_predictions, Ytest) \n",
    "    \n",
    "    mse = (((Y_predictions - Ytest) ** 2).sum()) / len(Y_predictions)\n",
    "    # Compute the mean squared error of our predictions.    \n",
    "    \n",
    "    print(\"    Test Set Accuracy for KNN: \",i,'nearest neighbors',round(test_acc1,3),'with MSE of ',round(mse,3))\n",
    "    \n",
    "    scores = cross_val_score(KNN,Xcolumns,Ycolumn,cv = 10)\n",
    "    print('Cross Validation average ',round(scores.mean(),5))\n",
    "\n",
    "    precision = precision_score(y_true = Ytest, y_pred = Y_predictions)    \n",
    "    print('Precision ',precision,'\\n') \n",
    "        \n",
    "    result.append([i,test_acc1,mse,precision,scores.mean()])\n",
    "    \n",
    "result = pandas.DataFrame(result)\n",
    "result.to_csv('KNNresults.csv')\n",
    "    \n",
    "  "
   ]
  },
  {
   "cell_type": "code",
   "execution_count": 6,
   "metadata": {
    "collapsed": true
   },
   "outputs": [],
   "source": [
    "#Best KNN is 20 nearest neighbors as it has the highest test accuracy, low mse and a similar cross validation score"
   ]
  },
  {
   "cell_type": "code",
   "execution_count": 7,
   "metadata": {},
   "outputs": [
    {
     "name": "stdout",
     "output_type": "stream",
     "text": [
      "Training Set Accuracy for SVM with kernel sigmoid 0.698 with MSE of  0.301\n",
      "    Test Set Accuracy for SVM with kernel sigmoid 0.681  with MSE of  0.319\n",
      "Cross Validation average  0.6962\n",
      "Precision  0.301939058172 \n",
      "\n",
      "Training Set Accuracy for SVM with kernel rbf 0.826 with MSE of  0.174\n",
      "    Test Set Accuracy for SVM with kernel rbf 0.811  with MSE of  0.189\n",
      "Cross Validation average  0.8195\n",
      "Precision  0.658536585366 \n",
      "\n"
     ]
    }
   ],
   "source": [
    "# SVM ***takes a while to run because of its size\n",
    "\n",
    "from sklearn import svm\n",
    "\n",
    "result = []\n",
    "\n",
    "kernels = ['sigmoid','rbf'] # 'precomputed','linear','poly'\n",
    "\n",
    "#'linear','poly' take to long to run\n",
    "#'precomputed' ValueError: X.shape[0] should be equal to X.shape[1]\n",
    "\n",
    "for i in kernels:\n",
    "    SVM = svm.SVC(kernel=i) #model\n",
    "    SVM.fit(Xtrain,Ytrain) #use training set not entire dataset of X,y\n",
    "\n",
    "    #test our train set data vs class\n",
    "    Y_Pred_Train = SVM.predict(Xtrain)\n",
    "    train_acc2 = round(accuracy_score(Y_Pred_Train, Ytrain),4)\n",
    "    mse = (((Y_Pred_Train - Ytrain) ** 2).sum()) / len(Y_Pred_Train)    \n",
    "    print(\"Training Set Accuracy for SVM with kernel \"+ i + ' '+str(round(train_acc2,3))+' with MSE of ',round(mse,3))\n",
    "\n",
    "    #test our test set data vs class\n",
    "    Y_Pred_Test = SVM.predict(Xtest) #to predict put data in here and print\n",
    "    test_acc2 = accuracy_score(Y_Pred_Test, Ytest)\n",
    "    mse = (((Y_Pred_Test - Ytest) ** 2).sum()) / len(Y_Pred_Test)    \n",
    "    print(\"    Test Set Accuracy for SVM with kernel \"+ i+' ' +str(round(test_acc2,3)),' with MSE of ',round(mse,3))\n",
    "    \n",
    "    scores = cross_val_score(SVM,Xcolumns,Ycolumn, cv=10)\n",
    "    print('Cross Validation average ',round(scores.mean(),5))\n",
    "\n",
    "    precision = precision_score(y_true = Ytest, y_pred = Y_Pred_Test)    \n",
    "    print('Precision ',precision,'\\n') \n",
    "        \n",
    "    result.append([i,test_acc2,mse,precision,scores.mean()])\n",
    "\n",
    "result = pandas.DataFrame(result)\n",
    "result.to_csv('SVMresults.csv')"
   ]
  },
  {
   "cell_type": "code",
   "execution_count": 8,
   "metadata": {
    "collapsed": true
   },
   "outputs": [],
   "source": [
    "# Had to use kernel rbf and sigmoid as the other kernels took too long to run or did not run\n",
    "#SVM with rbf slightly outperforms KNN\n"
   ]
  },
  {
   "cell_type": "code",
   "execution_count": null,
   "metadata": {
    "collapsed": true
   },
   "outputs": [],
   "source": []
  },
  {
   "cell_type": "code",
   "execution_count": 9,
   "metadata": {},
   "outputs": [
    {
     "name": "stdout",
     "output_type": "stream",
     "text": [
      "Training Set Accuracy for Logistic Regression 0.811 with MSE of  0.189\n",
      "Testing Accuracy for Logistic Regression 0.809 with MSE of  0.191\n",
      "Cross Validation average  0.80973\n",
      "Precision  0.714912280702 \n",
      "\n"
     ]
    },
    {
     "data": {
      "text/plain": [
       "\"import statsmodels.formula.api as sm\\n\\nmodel = sm.logit(formula='Ycolumn ~ Xcolumns', data = credit)\\nfitted = model.fit()\\nfitted.summary()\""
      ]
     },
     "execution_count": 9,
     "metadata": {},
     "output_type": "execute_result"
    }
   ],
   "source": [
    "# Logistic Regression\n",
    "\n",
    "from sklearn.linear_model import LogisticRegression\n",
    "\n",
    "lr = LogisticRegression()\n",
    "lr.fit(Xtrain,Ytrain) #uses training data from these 2 columns\n",
    "\n",
    "\n",
    "#test our train set data vs class\n",
    "Y_Pred_Train = lr.predict(Xtrain)\n",
    "train_accLR = round(accuracy_score(Y_Pred_Train, Ytrain),4)\n",
    "mse = (((Y_Pred_Train - Ytrain) ** 2).sum()) / len(Y_Pred_Train)    \n",
    "print(\"Training Set Accuracy for Logistic Regression \" +str(round(train_accLR,3)),'with MSE of ',round(mse,3))\n",
    "\n",
    "\n",
    "#test our test set data vs class\n",
    "Y_Pred_Test = lr.predict(Xtest) #to predict put data in here and print\n",
    "test_accLR = accuracy_score(Y_Pred_Test, Ytest)\n",
    "mse = (((Y_Pred_Test - Ytest) ** 2).sum()) / len(Y_Pred_Test)    \n",
    "print(\"Testing Accuracy for Logistic Regression \" +str(round(test_accLR,3)),'with MSE of ',round(mse,3))\n",
    "\n",
    "scores = cross_val_score(lr,Xcolumns,Ycolumn, cv=10)\n",
    "print('Cross Validation average ',round(scores.mean(),5))\n",
    "\n",
    "precision = precision_score(y_true = Ytest, y_pred = Y_Pred_Test)   \n",
    "print('Precision ',precision,'\\n') \n",
    "\n",
    "result = [test_accLR,mse,precision,scores.mean()]\n",
    "\n",
    "result = pandas.DataFrame(result)              \n",
    "result.to_csv('LRresults.csv')\n",
    "\n",
    "'''import statsmodels.formula.api as sm\n",
    "\n",
    "model = sm.logit(formula='Ycolumn ~ Xcolumns', data = credit)\n",
    "fitted = model.fit()\n",
    "fitted.summary()'''\n",
    "#provides summary statistics for predicting 'Ycolumn' based on 'Xcolumns' using all data"
   ]
  },
  {
   "cell_type": "code",
   "execution_count": 10,
   "metadata": {
    "collapsed": true
   },
   "outputs": [],
   "source": [
    "# Logistic regression is not good as SVM but performs better than KNN\n",
    "#Not sure how to read summary statistics"
   ]
  },
  {
   "cell_type": "code",
   "execution_count": 11,
   "metadata": {},
   "outputs": [
    {
     "name": "stdout",
     "output_type": "stream",
     "text": [
      "Number of leaves  3\n",
      "Training Accuracy for Random Forest with trees of  10   0.9142 with MSE of  0.086\n",
      " Testing Accuracy for Random Forest with trees of  10   0.8107 with MSE of  0.189\n",
      "Cross Validation average  0.81167\n",
      "Precision  0.6328125 \n",
      "\n",
      "Number of leaves  3\n",
      "Training Accuracy for Random Forest with trees of  30   0.9159 with MSE of  0.084\n",
      " Testing Accuracy for Random Forest with trees of  30   0.816 with MSE of  0.184\n",
      "Cross Validation average  0.81807\n",
      "Precision  0.662087912088 \n",
      "\n",
      "Number of leaves  3\n",
      "Training Accuracy for Random Forest with trees of  50   0.9169 with MSE of  0.083\n",
      " Testing Accuracy for Random Forest with trees of  50   0.814 with MSE of  0.186\n",
      "Cross Validation average  0.818\n",
      "Precision  0.651351351351 \n",
      "\n",
      "Number of leaves  10\n",
      "Training Accuracy for Random Forest with trees of  10   0.8483 with MSE of  0.152\n",
      " Testing Accuracy for Random Forest with trees of  10   0.8147 with MSE of  0.185\n",
      "Cross Validation average  0.8165\n",
      "Precision  0.654054054054 \n",
      "\n",
      "Number of leaves  10\n",
      "Training Accuracy for Random Forest with trees of  30   0.8522 with MSE of  0.148\n",
      " Testing Accuracy for Random Forest with trees of  30   0.814 with MSE of  0.186\n",
      "Cross Validation average  0.81847\n",
      "Precision  0.651351351351 \n",
      "\n",
      "Number of leaves  10\n",
      "Training Accuracy for Random Forest with trees of  50   0.8513 with MSE of  0.149\n",
      " Testing Accuracy for Random Forest with trees of  50   0.8153 with MSE of  0.185\n",
      "Cross Validation average  0.81954\n",
      "Precision  0.662921348315 \n",
      "\n",
      "Number of leaves  50\n",
      "Training Accuracy for Random Forest with trees of  10   0.825 with MSE of  0.175\n",
      " Testing Accuracy for Random Forest with trees of  10   0.8163 with MSE of  0.184\n",
      "Cross Validation average  0.8172\n",
      "Precision  0.669515669516 \n",
      "\n",
      "Number of leaves  50\n",
      "Training Accuracy for Random Forest with trees of  30   0.8256 with MSE of  0.174\n",
      " Testing Accuracy for Random Forest with trees of  30   0.813 with MSE of  0.187\n",
      "Cross Validation average  0.81954\n",
      "Precision  0.653521126761 \n",
      "\n",
      "Number of leaves  50\n",
      "Training Accuracy for Random Forest with trees of  50   0.8259 with MSE of  0.174\n",
      " Testing Accuracy for Random Forest with trees of  50   0.8133 with MSE of  0.187\n",
      "Cross Validation average  0.82017\n",
      "Precision  0.65625 \n",
      "\n"
     ]
    }
   ],
   "source": [
    "# Random Forest\n",
    "from sklearn.ensemble import RandomForestClassifier\n",
    "\n",
    "result = []\n",
    "\n",
    "for leaves in [3,10,50]:\n",
    "    for i in [10,30,50]: # Number of trees\n",
    "        print('Number of leaves ',leaves)\n",
    "        rf = RandomForestClassifier(n_estimators=i,min_samples_leaf=leaves)\n",
    "        #n_estimators number of random forest\n",
    "\n",
    "        #training\n",
    "        rf = rf.fit(Xtrain,Ytrain)\n",
    "        predictions = rf.predict(Xtrain)\n",
    "        train_acc3 = round(accuracy_score(predictions, Ytrain),4)\n",
    "        mse = (((predictions - Ytrain) ** 2).sum()) / len(predictions)\n",
    "        print(\"Training Accuracy for Random Forest with trees of \",i,' ',train_acc3,'with MSE of ',round(mse,3))\n",
    "\n",
    "        predictions = rf.predict(Xtest)\n",
    "        test_acc3 = round(accuracy_score(predictions, Ytest),4)\n",
    "        mse = (((predictions - Ytest) ** 2).sum()) / len(predictions)\n",
    "        print(\" Testing Accuracy for Random Forest with trees of \",i,' ',test_acc3,'with MSE of ',round(mse,3))\n",
    "\n",
    "        scores = cross_val_score(rf,Xcolumns,Ycolumn, cv=10)\n",
    "        print('Cross Validation average ',round(scores.mean(),5))\n",
    "\n",
    "        precision = precision_score(y_true = Ytest, y_pred = predictions)    \n",
    "        print('Precision ',precision,'\\n') \n",
    "\n",
    "        result.append([leaves,i,test_acc3,mse,precision,scores.mean()])\n",
    "    \n",
    "result = pandas.DataFrame(result)\n",
    "result.to_csv('RFresults.csv')"
   ]
  },
  {
   "cell_type": "code",
   "execution_count": 12,
   "metadata": {
    "collapsed": true
   },
   "outputs": [],
   "source": [
    "#despite having the highest training accuracy (90% at 3 leaves), it's testing set accuracy/mse is similar to SVM\n",
    "#50 leaves is the least overfit"
   ]
  },
  {
   "cell_type": "code",
   "execution_count": null,
   "metadata": {
    "collapsed": true
   },
   "outputs": [],
   "source": []
  },
  {
   "cell_type": "code",
   "execution_count": 13,
   "metadata": {},
   "outputs": [
    {
     "name": "stdout",
     "output_type": "stream",
     "text": [
      "Train Set Accuracy for Kmeans with K of  1 : 0.779 with MSE of  0.221\n",
      " Test Set Accuracy for Kmeans with K of  1 : 0.777 with MSE of  0.223\n",
      "Cross Validation average  -230317.48584\n",
      "Precision  0.0 \n",
      "\n"
     ]
    },
    {
     "name": "stderr",
     "output_type": "stream",
     "text": [
      "C:\\Users\\RCeballos\\AppData\\Local\\Continuum\\anaconda3\\lib\\site-packages\\sklearn\\metrics\\classification.py:1135: UndefinedMetricWarning: Precision is ill-defined and being set to 0.0 due to no predicted samples.\n",
      "  'precision', 'predicted', average, warn_for)\n"
     ]
    },
    {
     "name": "stdout",
     "output_type": "stream",
     "text": [
      "Train Set Accuracy for Kmeans with K of  2 : 0.6901 with MSE of  0.31\n",
      " Test Set Accuracy for Kmeans with K of  2 : 0.683 with MSE of  0.317\n",
      "Cross Validation average  -189928.32753\n",
      "Precision  0.204641350211 \n",
      "\n",
      "Train Set Accuracy for Kmeans with K of  3 : 0.407 with MSE of  1.479\n",
      " Test Set Accuracy for Kmeans with K of  3 : 0.419 with MSE of  1.419\n",
      "Cross Validation average  -163109.94545\n",
      "Precision  0.308503636758 \n",
      "\n",
      "Train Set Accuracy for Kmeans with K of  4 : 0.4329 with MSE of  1.321\n",
      " Test Set Accuracy for Kmeans with K of  4 : 0.451 with MSE of  1.307\n",
      "Cross Validation average  -153014.6958\n",
      "Precision  0.253299738708 \n",
      "\n",
      "Train Set Accuracy for Kmeans with K of  5 : 0.2655 with MSE of  5.018\n",
      " Test Set Accuracy for Kmeans with K of  5 : 0.254 with MSE of  5.049\n",
      "Cross Validation average  -145121.6837\n",
      "Precision  0.196768882122 \n",
      "\n",
      "Train Set Accuracy for Kmeans with K of  10 : 0.181 with MSE of  19.024\n",
      " Test Set Accuracy for Kmeans with K of  10 : 0.191 with MSE of  18.942\n",
      "Cross Validation average  -123872.31748\n",
      "Precision  0.0967378908722 \n",
      "\n"
     ]
    }
   ],
   "source": [
    "#Kmeans\n",
    "\n",
    "from sklearn.cluster import KMeans    \n",
    "\n",
    "result = []\n",
    "    \n",
    "for i in [1,2,3,4,5,10]:# number of clusters\n",
    "\n",
    "    Kmeans = KMeans(n_clusters=i, random_state=52)\n",
    "    Kmeans.fit(Xtrain) \n",
    "\n",
    "    #test our train set data vs class\n",
    "    Y_Pred_Train = Kmeans.predict(Xtrain)\n",
    "    train_acc4 = round(accuracy_score(Y_Pred_Train, Ytrain),4)\n",
    "    mse = (((Y_Pred_Train - Ytrain) ** 2).sum()) / len(Y_Pred_Train)    \n",
    "    print(\"Train Set Accuracy for Kmeans with K of \",i,': '+str(train_acc4),'with MSE of ',round(mse,3))\n",
    "\n",
    "    #test our test set data vs class\n",
    "    Y_Pred_Test = Kmeans.predict(Xtest) #to predict put data in here and print\n",
    "    test_acc4 = accuracy_score(Y_Pred_Test, Ytest)\n",
    "    mse = (((Y_Pred_Test - Ytest) ** 2).sum()) / len(Y_Pred_Test)    \n",
    "    print(\" Test Set Accuracy for Kmeans with K of \",i,': '+str(round(test_acc4,3)),'with MSE of ',round(mse,3))\n",
    "\n",
    "    #print('precision ',precision_score(y_true = Ytest, y_pred = Y_Pred_Test))\n",
    "    \n",
    "    scores = cross_val_score(Kmeans,Xcolumns,Ycolumn, cv=3)\n",
    "    print('Cross Validation average ',round(scores.mean(),5))\n",
    "\n",
    "    if i < 3:\n",
    "        precision = precision_score(y_true = Ytest, y_pred = Y_Pred_Test)\n",
    "    else:\n",
    "        precision = precision_score(y_true = Ytest, y_pred = Y_Pred_Test,average = 'macro')\n",
    "        \n",
    "    print('Precision ',precision,'\\n') \n",
    "\n",
    "    result.append([i,test_acc4,mse,precision,scores.mean()])\n",
    "    \n",
    "result = pandas.DataFrame(result)\n",
    "result.to_csv('KMeansresults.csv')"
   ]
  },
  {
   "cell_type": "code",
   "execution_count": null,
   "metadata": {
    "collapsed": true
   },
   "outputs": [],
   "source": []
  },
  {
   "cell_type": "code",
   "execution_count": 14,
   "metadata": {
    "collapsed": true
   },
   "outputs": [],
   "source": [
    "#Kmeans works best with K of 1 it has an accuracy and mse similar to KNN\n",
    "#cross validation score is strange\n",
    "#Not the best model for this"
   ]
  },
  {
   "cell_type": "code",
   "execution_count": null,
   "metadata": {
    "collapsed": true
   },
   "outputs": [],
   "source": []
  },
  {
   "cell_type": "code",
   "execution_count": 15,
   "metadata": {},
   "outputs": [
    {
     "name": "stdout",
     "output_type": "stream",
     "text": [
      "For Neural Network of activiation  identity  and solver of  lbfgs\n",
      "Train Set Accuracy for Neural Network 0.8113 with MSE of  0.189\n",
      " Test Set Accuracy for Neural Network 0.81 with MSE of  0.19\n",
      "Precision  0.71615720524 \n",
      "\n",
      "For Neural Network of activiation  identity  and solver of  sgd\n",
      "Train Set Accuracy for Neural Network 0.8111 with MSE of  0.189\n",
      " Test Set Accuracy for Neural Network 0.809 with MSE of  0.191\n",
      "Precision  0.710526315789 \n",
      "\n",
      "For Neural Network of activiation  identity  and solver of  adam\n",
      "Train Set Accuracy for Neural Network 0.812 with MSE of  0.188\n",
      " Test Set Accuracy for Neural Network 0.806 with MSE of  0.194\n",
      "Precision  0.677551020408 \n",
      "\n",
      "For Neural Network of activiation  logistic  and solver of  lbfgs\n",
      "Train Set Accuracy for Neural Network 0.8245 with MSE of  0.175\n",
      " Test Set Accuracy for Neural Network 0.813 with MSE of  0.187\n",
      "Precision  0.654494382022 \n",
      "\n",
      "For Neural Network of activiation  logistic  and solver of  sgd\n",
      "Train Set Accuracy for Neural Network 0.8082 with MSE of  0.192\n",
      " Test Set Accuracy for Neural Network 0.803 with MSE of  0.197\n",
      "Precision  0.665271966527 \n",
      "\n",
      "For Neural Network of activiation  logistic  and solver of  adam\n",
      "Train Set Accuracy for Neural Network 0.8211 with MSE of  0.179\n",
      " Test Set Accuracy for Neural Network 0.811 with MSE of  0.189\n",
      "Precision  0.647727272727 \n",
      "\n",
      "For Neural Network of activiation  tanh  and solver of  lbfgs\n",
      "Train Set Accuracy for Neural Network 0.8254 with MSE of  0.175\n",
      " Test Set Accuracy for Neural Network 0.81 with MSE of  0.19\n",
      "Precision  0.634666666667 \n",
      "\n",
      "For Neural Network of activiation  tanh  and solver of  sgd\n",
      "Train Set Accuracy for Neural Network 0.8164 with MSE of  0.184\n",
      " Test Set Accuracy for Neural Network 0.811 with MSE of  0.189\n",
      "Precision  0.64406779661 \n",
      "\n",
      "For Neural Network of activiation  tanh  and solver of  adam\n",
      "Train Set Accuracy for Neural Network 0.8219 with MSE of  0.178\n",
      " Test Set Accuracy for Neural Network 0.811 with MSE of  0.189\n",
      "Precision  0.646892655367 \n",
      "\n",
      "For Neural Network of activiation  relu  and solver of  lbfgs\n",
      "Train Set Accuracy for Neural Network 0.823 with MSE of  0.177\n",
      " Test Set Accuracy for Neural Network 0.807 with MSE of  0.193\n",
      "Precision  0.619170984456 \n",
      "\n",
      "For Neural Network of activiation  relu  and solver of  sgd\n",
      "Train Set Accuracy for Neural Network 0.8176 with MSE of  0.182\n",
      " Test Set Accuracy for Neural Network 0.812 with MSE of  0.188\n",
      "Precision  0.668769716088 \n",
      "\n",
      "For Neural Network of activiation  relu  and solver of  adam\n",
      "Train Set Accuracy for Neural Network 0.8214 with MSE of  0.179\n",
      " Test Set Accuracy for Neural Network 0.812 with MSE of  0.188\n",
      "Precision  0.648044692737 \n",
      "\n"
     ]
    }
   ],
   "source": [
    "#Neural Nets\n",
    "#http://scikit-learn.org/stable/modules/generated/sklearn.neural_network.MLPClassifier.html#sklearn.neural_network.MLPClassifier\n",
    "\n",
    "from sklearn.neural_network import MLPClassifier\n",
    "\n",
    "result = []\n",
    "\n",
    "activation = ['identity','logistic','tanh','relu']\n",
    "solver = ['lbfgs','sgd','adam']\n",
    "\n",
    "for i in activation:\n",
    "    for j in solver:\n",
    "    \n",
    "        NeuralNet = MLPClassifier(activation = i,solver = j, random_state=1, hidden_layer_sizes = 10, max_iter=1000)\n",
    "        NeuralNet.fit(Xtrain,Ytrain) \n",
    "        \n",
    "        print('For Neural Network of activiation ',i,' and solver of ',j)\n",
    "        \n",
    "        #test our train set data vs class\n",
    "        Y_Pred_Train = NeuralNet.predict(Xtrain)\n",
    "        train_acc5 = round(accuracy_score(Y_Pred_Train, Ytrain),4)\n",
    "        mse = (((Y_Pred_Train - Ytrain) ** 2).sum()) / len(Y_Pred_Train)    \n",
    "        print(\"Train Set Accuracy for Neural Network \"+str(train_acc5),'with MSE of ',round(mse,3))\n",
    "\n",
    "        #test our test set data vs class\n",
    "        Y_Pred_Test = NeuralNet.predict(Xtest) #to predict put data in here and print\n",
    "        test_acc5 = accuracy_score(Y_Pred_Test, Ytest)\n",
    "        mse = (((Y_Pred_Test - Ytest) ** 2).sum()) / len(Y_Pred_Test)    \n",
    "        print(\" Test Set Accuracy for Neural Network \"+str(round(test_acc5,3)),'with MSE of ',round(mse,3))\n",
    "\n",
    "        scores = cross_val_score(NeuralNet,Xcolumns,Ycolumn, cv=10)\n",
    "        precision = precision_score(y_true = Ytest, y_pred = Y_Pred_Test)    \n",
    "        print('Precision ',precision,'\\n') \n",
    "\n",
    "        result.append([i,j,test_acc5,mse,precision,scores.mean()])\n",
    "    \n",
    "result = pandas.DataFrame(result)\n",
    "result.to_csv('NeuralNetsresults.csv')\n",
    "        "
   ]
  },
  {
   "cell_type": "code",
   "execution_count": 16,
   "metadata": {
    "collapsed": true
   },
   "outputs": [],
   "source": [
    "# Neural Network is pretty good at all activations and solvers"
   ]
  },
  {
   "cell_type": "code",
   "execution_count": 17,
   "metadata": {},
   "outputs": [
    {
     "name": "stdout",
     "output_type": "stream",
     "text": [
      "Train Set Accuracy for Gaussian Naive Bayes 0.744 with MSE of  0.257\n",
      " Test Set Accuracy for Gaussian Naive Bayes 0.729 with MSE of  0.271\n",
      "Cross Validation average  0.71011\n",
      "Precision  0.424307036247 \n",
      "\n"
     ]
    }
   ],
   "source": [
    "# Gaussian Naive Bayes\n",
    "\n",
    "from sklearn.naive_bayes import GaussianNB\n",
    "\n",
    "result = []\n",
    "Bayes = GaussianNB()\n",
    "Bayes.fit(Xtrain,Ytrain)\n",
    "\n",
    "#test our train set data vs class\n",
    "Y_Pred_Train = Bayes.predict(Xtrain)\n",
    "train_acc5 = round(accuracy_score(Y_Pred_Train, Ytrain),4)\n",
    "mse = (((Y_Pred_Train - Ytrain) ** 2).sum()) / len(Y_Pred_Train)    \n",
    "print(\"Train Set Accuracy for Gaussian Naive Bayes \"+str(round(train_acc5,3)),'with MSE of ',round(mse,3))\n",
    "\n",
    "#test our test set data vs class\n",
    "Y_Pred_Test = Bayes.predict(Xtest) #to predict put data in here and print\n",
    "test_acc5 = accuracy_score(Y_Pred_Test, Ytest)\n",
    "mse = (((Y_Pred_Test - Ytest) ** 2).sum()) / len(Y_Pred_Test)    \n",
    "print(\" Test Set Accuracy for Gaussian Naive Bayes \"+str(round(test_acc5,3)),'with MSE of ',round(mse,3))\n",
    "\n",
    "scores = cross_val_score(Bayes,Xcolumns,Ycolumn, cv=10)\n",
    "print('Cross Validation average ',round(scores.mean(),5))\n",
    "\n",
    "precision = precision_score(y_true = Ytest, y_pred = Y_Pred_Test)\n",
    "print('Precision ',precision,'\\n') \n",
    "\n",
    "result.append([test_acc5,mse,precision,scores.mean()])\n",
    "    \n",
    "result = pandas.DataFrame(result)\n",
    "result.to_csv('NBresults.csv')\n"
   ]
  },
  {
   "cell_type": "code",
   "execution_count": null,
   "metadata": {
    "collapsed": true
   },
   "outputs": [],
   "source": []
  },
  {
   "cell_type": "markdown",
   "metadata": {},
   "source": [
    "Lab 1 - \n",
    "    Correlation\n",
    "    Kmeans with PCA\n",
    "    linear regression\n",
    "    Random forest\n",
    "    MSE mean squared error\n",
    "    \n",
    "Lab 2 - \n",
    "    Hist\n",
    "    Boxplot\n",
    "    Desc stats\n",
    "    \n",
    "Lab 3 - \n",
    "    KNN\n",
    "    normalization\n",
    "    \n",
    "Lab 4 - \n",
    "    SVM\n",
    "    scattplot\n",
    "    performance\n",
    "    KNN\n",
    "    \n",
    "Lab 5 - Neural Nets \n",
    "\n",
    "filter class and see if there are patterns?\n"
   ]
  },
  {
   "cell_type": "code",
   "execution_count": null,
   "metadata": {
    "collapsed": true
   },
   "outputs": [],
   "source": []
  },
  {
   "cell_type": "code",
   "execution_count": null,
   "metadata": {
    "collapsed": true
   },
   "outputs": [],
   "source": []
  }
 ],
 "metadata": {
  "kernelspec": {
   "display_name": "Python 3",
   "language": "python",
   "name": "python3"
  },
  "language_info": {
   "codemirror_mode": {
    "name": "ipython",
    "version": 3
   },
   "file_extension": ".py",
   "mimetype": "text/x-python",
   "name": "python",
   "nbconvert_exporter": "python",
   "pygments_lexer": "ipython3",
   "version": "3.6.2"
  }
 },
 "nbformat": 4,
 "nbformat_minor": 2
}
